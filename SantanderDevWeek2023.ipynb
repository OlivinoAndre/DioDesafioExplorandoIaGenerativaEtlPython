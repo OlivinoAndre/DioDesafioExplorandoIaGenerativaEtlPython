{
  "nbformat": 4,
  "nbformat_minor": 0,
  "metadata": {
    "colab": {
      "provenance": [],
      "collapsed_sections": [
        "kNuP0SDUZMBY"
      ]
    },
    "kernelspec": {
      "name": "python3",
      "display_name": "Python 3"
    },
    "language_info": {
      "name": "python"
    }
  },
  "cells": [
    {
      "cell_type": "markdown",
      "source": [
        "# Santander Dev Week 2023 (ETL com Python)"
      ],
      "metadata": {
        "id": "BPJQsTCULaC-"
      }
    },
    {
      "cell_type": "markdown",
      "source": [
        "**Contexto:** Você é um cientista de dados no Santander e recebeu a tarefa de envolver seus clientes de maneira mais personalizada. Seu objetivo é usar o poder da IA Generativa para criar mensagens de marketing personalizadas que serão entregues a cada cliente.\n",
        "\n",
        "**Condições do Problema:**\n",
        "\n",
        "1. Você recebeu uma planilha simples, em formato CSV ('SDW2023.csv'), com uma lista de IDs de usuário do banco:\n",
        "  ```\n",
        "  UserID\n",
        "  1\n",
        "  2\n",
        "  3\n",
        "  4\n",
        "  5\n",
        "  ```\n",
        "2. Seu trabalho é consumir o endpoint `GET https://sdw-2023-prd.up.railway.app/users/{id}` (API da Santander Dev Week 2023) para obter os dados de cada cliente.\n",
        "3. Depois de obter os dados dos clientes, você vai usar a API do ChatGPT (OpenAI) para gerar uma mensagem de marketing personalizada para cada cliente. Essa mensagem deve enfatizar a importância dos investimentos.\n",
        "4. Uma vez que a mensagem para cada cliente esteja pronta, você vai enviar essas informações de volta para a API, atualizando a lista de \"news\" de cada usuário usando o endpoint `PUT https://sdw-2023-prd.up.railway.app/users/{id}`.\n",
        "\n"
      ],
      "metadata": {
        "id": "k5fA5OrXt1a3"
      }
    },
    {
      "cell_type": "code",
      "source": [
        "# Utilize sua própria URL se quiser ;)\n",
        "# Repositório da API: https://github.com/digitalinnovationone/santander-dev-week-2023-api\n",
        "sdw2023_api_url = 'https://sdw-2023-prd.up.railway.app'\n",
        "IN_MEMORY_API = True #Quando falso utiliza a API listada"
      ],
      "metadata": {
        "id": "FKqLC_CWoYqR"
      },
      "execution_count": 1,
      "outputs": []
    },
    {
      "cell_type": "markdown",
      "source": [
        "## Datasets\n",
        "\n",
        "Cria um dataset, emula a lib request para substituir o acesso ao endpoint, por dados em memoria e deriva os Ids para escrever o arquivo CSV"
      ],
      "metadata": {
        "id": "vJQkX2jFD0BR"
      }
    },
    {
      "cell_type": "code",
      "source": [
        "in_memory_users = [\n",
        "    {\n",
        "      \"id\": 1,\n",
        "      \"name\": \"Pyterlei\",\n",
        "      \"account\": {\n",
        "      \"id\": 7,\n",
        "      \"number\": \"00001-1\",\n",
        "      \"agency\": \"0001\",\n",
        "      \"balance\": 50.0,\n",
        "      \"limit\": 500.0\n",
        "      },\n",
        "      \"card\": {\n",
        "        \"id\": 1,\n",
        "        \"number\": \"**** **** **** 1111\",\n",
        "        \"limit\": 1000.0\n",
        "      },\n",
        "      \"features\": [],\n",
        "      \"news\": []\n",
        "    },\n",
        "    {\n",
        "      \"id\": 2,\n",
        "      \"name\": \"Pytano\",\n",
        "      \"account\": {\n",
        "      \"id\": 7,\n",
        "      \"number\": \"00002-1\",\n",
        "      \"agency\": \"0001\",\n",
        "      \"balance\": 500.0,\n",
        "      \"limit\": 500.0\n",
        "      },\n",
        "      \"card\": {\n",
        "        \"id\": 2,\n",
        "        \"number\": \"**** **** **** 1112\",\n",
        "        \"limit\": 1000.0\n",
        "      },\n",
        "      \"features\": [],\n",
        "      \"news\": []\n",
        "    },\n",
        "    {\n",
        "      \"id\": 3,\n",
        "      \"name\": \"Pytone\",\n",
        "      \"account\": {\n",
        "      \"id\": 7,\n",
        "      \"number\": \"00003-1\",\n",
        "      \"agency\": \"0001\",\n",
        "      \"balance\": 5000.0,\n",
        "      \"limit\": 1000.0\n",
        "      },\n",
        "      \"card\": {\n",
        "        \"id\": 3,\n",
        "        \"number\": \"**** **** **** 1113\",\n",
        "        \"limit\": 1000.0\n",
        "      },\n",
        "      \"features\": [],\n",
        "      \"news\": []\n",
        "    },\n",
        "]"
      ],
      "metadata": {
        "id": "IZBZ4UqtE6AR"
      },
      "execution_count": 2,
      "outputs": []
    },
    {
      "cell_type": "code",
      "source": [
        "class Response:\n",
        "  status_code = None\n",
        "  _json = None\n",
        "\n",
        "  def __init__(self, status, content):\n",
        "    self.status_code = status\n",
        "    self._json = content\n",
        "\n",
        "  def json(self):\n",
        "    return self._json\n",
        "\n",
        "class InMemoryApi:\n",
        "  _data = None\n",
        "\n",
        "  def __init__(self, in_memory_data):\n",
        "    self._data = in_memory_data\n",
        "\n",
        "  def get(self, url):\n",
        "    try:\n",
        "      id = int(url.split('/')[-1])\n",
        "      user = [x for x in self._data if x[\"id\"] == id]\n",
        "      if len(user) == 0:\n",
        "        return Response(404,None)\n",
        "      return Response(200,user[0])\n",
        "    except:\n",
        "      return Response(400,None)\n",
        "\n",
        "  def put(self, url,*,json = None):\n",
        "    try:\n",
        "      id = int(url.split('/')[-1])\n",
        "      user = [(idx, x) for idx, x in enumerate(self._data) if x[\"id\"] == id]\n",
        "      if len(user) == 0:\n",
        "        self._data.append(json)\n",
        "        return Response(200,self._data[-1])\n",
        "\n",
        "      self._data[user[0][0]] = json\n",
        "      return Response(200,self._data[user[0][0]])\n",
        "    except:\n",
        "      return Response(400,None)"
      ],
      "metadata": {
        "id": "bBj7togII0UJ"
      },
      "execution_count": 3,
      "outputs": []
    },
    {
      "cell_type": "code",
      "source": [
        "import pandas as pd\n",
        "\n",
        "user_list = [user[\"id\"] for user in in_memory_users]\n",
        "user_df = pd.DataFrame({\"UserID\": user_list})\n",
        "\n",
        "display(user_df)"
      ],
      "metadata": {
        "colab": {
          "base_uri": "https://localhost:8080/",
          "height": 143
        },
        "id": "sll9-dqDR-YP",
        "outputId": "929c010a-019a-4314-b447-1089366701ba"
      },
      "execution_count": 4,
      "outputs": [
        {
          "output_type": "display_data",
          "data": {
            "text/plain": [
              "   UserID\n",
              "0       1\n",
              "1       2\n",
              "2       3"
            ],
            "text/html": [
              "\n",
              "  <div id=\"df-73c6ff4f-2e15-4b7e-a0be-78c0af9a37fe\" class=\"colab-df-container\">\n",
              "    <div>\n",
              "<style scoped>\n",
              "    .dataframe tbody tr th:only-of-type {\n",
              "        vertical-align: middle;\n",
              "    }\n",
              "\n",
              "    .dataframe tbody tr th {\n",
              "        vertical-align: top;\n",
              "    }\n",
              "\n",
              "    .dataframe thead th {\n",
              "        text-align: right;\n",
              "    }\n",
              "</style>\n",
              "<table border=\"1\" class=\"dataframe\">\n",
              "  <thead>\n",
              "    <tr style=\"text-align: right;\">\n",
              "      <th></th>\n",
              "      <th>UserID</th>\n",
              "    </tr>\n",
              "  </thead>\n",
              "  <tbody>\n",
              "    <tr>\n",
              "      <th>0</th>\n",
              "      <td>1</td>\n",
              "    </tr>\n",
              "    <tr>\n",
              "      <th>1</th>\n",
              "      <td>2</td>\n",
              "    </tr>\n",
              "    <tr>\n",
              "      <th>2</th>\n",
              "      <td>3</td>\n",
              "    </tr>\n",
              "  </tbody>\n",
              "</table>\n",
              "</div>\n",
              "    <div class=\"colab-df-buttons\">\n",
              "\n",
              "  <div class=\"colab-df-container\">\n",
              "    <button class=\"colab-df-convert\" onclick=\"convertToInteractive('df-73c6ff4f-2e15-4b7e-a0be-78c0af9a37fe')\"\n",
              "            title=\"Convert this dataframe to an interactive table.\"\n",
              "            style=\"display:none;\">\n",
              "\n",
              "  <svg xmlns=\"http://www.w3.org/2000/svg\" height=\"24px\" viewBox=\"0 -960 960 960\">\n",
              "    <path d=\"M120-120v-720h720v720H120Zm60-500h600v-160H180v160Zm220 220h160v-160H400v160Zm0 220h160v-160H400v160ZM180-400h160v-160H180v160Zm440 0h160v-160H620v160ZM180-180h160v-160H180v160Zm440 0h160v-160H620v160Z\"/>\n",
              "  </svg>\n",
              "    </button>\n",
              "\n",
              "  <style>\n",
              "    .colab-df-container {\n",
              "      display:flex;\n",
              "      gap: 12px;\n",
              "    }\n",
              "\n",
              "    .colab-df-convert {\n",
              "      background-color: #E8F0FE;\n",
              "      border: none;\n",
              "      border-radius: 50%;\n",
              "      cursor: pointer;\n",
              "      display: none;\n",
              "      fill: #1967D2;\n",
              "      height: 32px;\n",
              "      padding: 0 0 0 0;\n",
              "      width: 32px;\n",
              "    }\n",
              "\n",
              "    .colab-df-convert:hover {\n",
              "      background-color: #E2EBFA;\n",
              "      box-shadow: 0px 1px 2px rgba(60, 64, 67, 0.3), 0px 1px 3px 1px rgba(60, 64, 67, 0.15);\n",
              "      fill: #174EA6;\n",
              "    }\n",
              "\n",
              "    .colab-df-buttons div {\n",
              "      margin-bottom: 4px;\n",
              "    }\n",
              "\n",
              "    [theme=dark] .colab-df-convert {\n",
              "      background-color: #3B4455;\n",
              "      fill: #D2E3FC;\n",
              "    }\n",
              "\n",
              "    [theme=dark] .colab-df-convert:hover {\n",
              "      background-color: #434B5C;\n",
              "      box-shadow: 0px 1px 3px 1px rgba(0, 0, 0, 0.15);\n",
              "      filter: drop-shadow(0px 1px 2px rgba(0, 0, 0, 0.3));\n",
              "      fill: #FFFFFF;\n",
              "    }\n",
              "  </style>\n",
              "\n",
              "    <script>\n",
              "      const buttonEl =\n",
              "        document.querySelector('#df-73c6ff4f-2e15-4b7e-a0be-78c0af9a37fe button.colab-df-convert');\n",
              "      buttonEl.style.display =\n",
              "        google.colab.kernel.accessAllowed ? 'block' : 'none';\n",
              "\n",
              "      async function convertToInteractive(key) {\n",
              "        const element = document.querySelector('#df-73c6ff4f-2e15-4b7e-a0be-78c0af9a37fe');\n",
              "        const dataTable =\n",
              "          await google.colab.kernel.invokeFunction('convertToInteractive',\n",
              "                                                    [key], {});\n",
              "        if (!dataTable) return;\n",
              "\n",
              "        const docLinkHtml = 'Like what you see? Visit the ' +\n",
              "          '<a target=\"_blank\" href=https://colab.research.google.com/notebooks/data_table.ipynb>data table notebook</a>'\n",
              "          + ' to learn more about interactive tables.';\n",
              "        element.innerHTML = '';\n",
              "        dataTable['output_type'] = 'display_data';\n",
              "        await google.colab.output.renderOutput(dataTable, element);\n",
              "        const docLink = document.createElement('div');\n",
              "        docLink.innerHTML = docLinkHtml;\n",
              "        element.appendChild(docLink);\n",
              "      }\n",
              "    </script>\n",
              "  </div>\n",
              "\n",
              "\n",
              "<div id=\"df-ced37d13-1cc7-487d-8203-a3fed2453ba7\">\n",
              "  <button class=\"colab-df-quickchart\" onclick=\"quickchart('df-ced37d13-1cc7-487d-8203-a3fed2453ba7')\"\n",
              "            title=\"Suggest charts.\"\n",
              "            style=\"display:none;\">\n",
              "\n",
              "<svg xmlns=\"http://www.w3.org/2000/svg\" height=\"24px\"viewBox=\"0 0 24 24\"\n",
              "     width=\"24px\">\n",
              "    <g>\n",
              "        <path d=\"M19 3H5c-1.1 0-2 .9-2 2v14c0 1.1.9 2 2 2h14c1.1 0 2-.9 2-2V5c0-1.1-.9-2-2-2zM9 17H7v-7h2v7zm4 0h-2V7h2v10zm4 0h-2v-4h2v4z\"/>\n",
              "    </g>\n",
              "</svg>\n",
              "  </button>\n",
              "\n",
              "<style>\n",
              "  .colab-df-quickchart {\n",
              "      --bg-color: #E8F0FE;\n",
              "      --fill-color: #1967D2;\n",
              "      --hover-bg-color: #E2EBFA;\n",
              "      --hover-fill-color: #174EA6;\n",
              "      --disabled-fill-color: #AAA;\n",
              "      --disabled-bg-color: #DDD;\n",
              "  }\n",
              "\n",
              "  [theme=dark] .colab-df-quickchart {\n",
              "      --bg-color: #3B4455;\n",
              "      --fill-color: #D2E3FC;\n",
              "      --hover-bg-color: #434B5C;\n",
              "      --hover-fill-color: #FFFFFF;\n",
              "      --disabled-bg-color: #3B4455;\n",
              "      --disabled-fill-color: #666;\n",
              "  }\n",
              "\n",
              "  .colab-df-quickchart {\n",
              "    background-color: var(--bg-color);\n",
              "    border: none;\n",
              "    border-radius: 50%;\n",
              "    cursor: pointer;\n",
              "    display: none;\n",
              "    fill: var(--fill-color);\n",
              "    height: 32px;\n",
              "    padding: 0;\n",
              "    width: 32px;\n",
              "  }\n",
              "\n",
              "  .colab-df-quickchart:hover {\n",
              "    background-color: var(--hover-bg-color);\n",
              "    box-shadow: 0 1px 2px rgba(60, 64, 67, 0.3), 0 1px 3px 1px rgba(60, 64, 67, 0.15);\n",
              "    fill: var(--button-hover-fill-color);\n",
              "  }\n",
              "\n",
              "  .colab-df-quickchart-complete:disabled,\n",
              "  .colab-df-quickchart-complete:disabled:hover {\n",
              "    background-color: var(--disabled-bg-color);\n",
              "    fill: var(--disabled-fill-color);\n",
              "    box-shadow: none;\n",
              "  }\n",
              "\n",
              "  .colab-df-spinner {\n",
              "    border: 2px solid var(--fill-color);\n",
              "    border-color: transparent;\n",
              "    border-bottom-color: var(--fill-color);\n",
              "    animation:\n",
              "      spin 1s steps(1) infinite;\n",
              "  }\n",
              "\n",
              "  @keyframes spin {\n",
              "    0% {\n",
              "      border-color: transparent;\n",
              "      border-bottom-color: var(--fill-color);\n",
              "      border-left-color: var(--fill-color);\n",
              "    }\n",
              "    20% {\n",
              "      border-color: transparent;\n",
              "      border-left-color: var(--fill-color);\n",
              "      border-top-color: var(--fill-color);\n",
              "    }\n",
              "    30% {\n",
              "      border-color: transparent;\n",
              "      border-left-color: var(--fill-color);\n",
              "      border-top-color: var(--fill-color);\n",
              "      border-right-color: var(--fill-color);\n",
              "    }\n",
              "    40% {\n",
              "      border-color: transparent;\n",
              "      border-right-color: var(--fill-color);\n",
              "      border-top-color: var(--fill-color);\n",
              "    }\n",
              "    60% {\n",
              "      border-color: transparent;\n",
              "      border-right-color: var(--fill-color);\n",
              "    }\n",
              "    80% {\n",
              "      border-color: transparent;\n",
              "      border-right-color: var(--fill-color);\n",
              "      border-bottom-color: var(--fill-color);\n",
              "    }\n",
              "    90% {\n",
              "      border-color: transparent;\n",
              "      border-bottom-color: var(--fill-color);\n",
              "    }\n",
              "  }\n",
              "</style>\n",
              "\n",
              "  <script>\n",
              "    async function quickchart(key) {\n",
              "      const quickchartButtonEl =\n",
              "        document.querySelector('#' + key + ' button');\n",
              "      quickchartButtonEl.disabled = true;  // To prevent multiple clicks.\n",
              "      quickchartButtonEl.classList.add('colab-df-spinner');\n",
              "      try {\n",
              "        const charts = await google.colab.kernel.invokeFunction(\n",
              "            'suggestCharts', [key], {});\n",
              "      } catch (error) {\n",
              "        console.error('Error during call to suggestCharts:', error);\n",
              "      }\n",
              "      quickchartButtonEl.classList.remove('colab-df-spinner');\n",
              "      quickchartButtonEl.classList.add('colab-df-quickchart-complete');\n",
              "    }\n",
              "    (() => {\n",
              "      let quickchartButtonEl =\n",
              "        document.querySelector('#df-ced37d13-1cc7-487d-8203-a3fed2453ba7 button');\n",
              "      quickchartButtonEl.style.display =\n",
              "        google.colab.kernel.accessAllowed ? 'block' : 'none';\n",
              "    })();\n",
              "  </script>\n",
              "</div>\n",
              "    </div>\n",
              "  </div>\n"
            ]
          },
          "metadata": {}
        }
      ]
    },
    {
      "cell_type": "code",
      "source": [
        "user_df.to_csv(\"SDW2023.csv\")"
      ],
      "metadata": {
        "id": "bDIKddsSTswy"
      },
      "execution_count": 5,
      "outputs": []
    },
    {
      "cell_type": "markdown",
      "source": [
        "## **E**xtract\n",
        "\n",
        "Extraia a lista de IDs de usuário a partir do arquivo CSV. Para cada ID, faça uma requisição GET para obter os dados do usuário correspondente."
      ],
      "metadata": {
        "id": "9dfI-o7gLRq9"
      }
    },
    {
      "cell_type": "code",
      "execution_count": 6,
      "metadata": {
        "id": "NYydpX_GLRCB",
        "colab": {
          "base_uri": "https://localhost:8080/"
        },
        "outputId": "51b4963f-1bac-45d5-dd56-832f2d882b90"
      },
      "outputs": [
        {
          "output_type": "stream",
          "name": "stdout",
          "text": [
            "[1, 2, 3]\n"
          ]
        }
      ],
      "source": [
        "import pandas as pd\n",
        "\n",
        "df = pd.read_csv('SDW2023.csv')\n",
        "user_ids = df['UserID'].tolist()\n",
        "print(user_ids)"
      ]
    },
    {
      "cell_type": "code",
      "source": [
        "import json\n",
        "\n",
        "if (IN_MEMORY_API):\n",
        "  requests = InMemoryApi(in_memory_users)\n",
        "else:\n",
        "  import requests\n",
        "\n",
        "def get_user(id):\n",
        "  response = requests.get(f'{sdw2023_api_url}/users/{id}')\n",
        "  return response.json() if response.status_code == 200 else None\n",
        "\n",
        "users = [user for id in user_ids if (user := get_user(id).copy()) is not None]\n",
        "print(json.dumps(users, indent=2))"
      ],
      "metadata": {
        "id": "F5XOuCZGSTGw",
        "colab": {
          "base_uri": "https://localhost:8080/"
        },
        "outputId": "b637ea8f-8740-4bec-d360-454bdbd4d0c8"
      },
      "execution_count": 7,
      "outputs": [
        {
          "output_type": "stream",
          "name": "stdout",
          "text": [
            "[\n",
            "  {\n",
            "    \"id\": 1,\n",
            "    \"name\": \"Pyterlei\",\n",
            "    \"account\": {\n",
            "      \"id\": 7,\n",
            "      \"number\": \"00001-1\",\n",
            "      \"agency\": \"0001\",\n",
            "      \"balance\": 50.0,\n",
            "      \"limit\": 500.0\n",
            "    },\n",
            "    \"card\": {\n",
            "      \"id\": 1,\n",
            "      \"number\": \"**** **** **** 1111\",\n",
            "      \"limit\": 1000.0\n",
            "    },\n",
            "    \"features\": [],\n",
            "    \"news\": []\n",
            "  },\n",
            "  {\n",
            "    \"id\": 2,\n",
            "    \"name\": \"Pytano\",\n",
            "    \"account\": {\n",
            "      \"id\": 7,\n",
            "      \"number\": \"00002-1\",\n",
            "      \"agency\": \"0001\",\n",
            "      \"balance\": 500.0,\n",
            "      \"limit\": 500.0\n",
            "    },\n",
            "    \"card\": {\n",
            "      \"id\": 2,\n",
            "      \"number\": \"**** **** **** 1112\",\n",
            "      \"limit\": 1000.0\n",
            "    },\n",
            "    \"features\": [],\n",
            "    \"news\": []\n",
            "  },\n",
            "  {\n",
            "    \"id\": 3,\n",
            "    \"name\": \"Pytone\",\n",
            "    \"account\": {\n",
            "      \"id\": 7,\n",
            "      \"number\": \"00003-1\",\n",
            "      \"agency\": \"0001\",\n",
            "      \"balance\": 5000.0,\n",
            "      \"limit\": 1000.0\n",
            "    },\n",
            "    \"card\": {\n",
            "      \"id\": 3,\n",
            "      \"number\": \"**** **** **** 1113\",\n",
            "      \"limit\": 1000.0\n",
            "    },\n",
            "    \"features\": [],\n",
            "    \"news\": []\n",
            "  }\n",
            "]\n"
          ]
        }
      ]
    },
    {
      "cell_type": "markdown",
      "source": [
        "## **T**ransform\n",
        "\n",
        "Utilize a API do OpenAI GPT-3.5 para gerar uma mensagem de marketing personalizada para cada usuário, com base no seu patrimônio atual."
      ],
      "metadata": {
        "id": "cWoqInB4TF1x"
      }
    },
    {
      "cell_type": "code",
      "source": [
        "!pip install openai"
      ],
      "metadata": {
        "id": "O--PCAObTQkK",
        "colab": {
          "base_uri": "https://localhost:8080/"
        },
        "outputId": "2e87ac12-062b-4cd2-c62b-c7312ab5cba0"
      },
      "execution_count": 8,
      "outputs": [
        {
          "output_type": "stream",
          "name": "stdout",
          "text": [
            "Requirement already satisfied: openai in /usr/local/lib/python3.10/dist-packages (0.28.1)\n",
            "Requirement already satisfied: requests>=2.20 in /usr/local/lib/python3.10/dist-packages (from openai) (2.31.0)\n",
            "Requirement already satisfied: tqdm in /usr/local/lib/python3.10/dist-packages (from openai) (4.66.1)\n",
            "Requirement already satisfied: aiohttp in /usr/local/lib/python3.10/dist-packages (from openai) (3.8.5)\n",
            "Requirement already satisfied: charset-normalizer<4,>=2 in /usr/local/lib/python3.10/dist-packages (from requests>=2.20->openai) (3.2.0)\n",
            "Requirement already satisfied: idna<4,>=2.5 in /usr/local/lib/python3.10/dist-packages (from requests>=2.20->openai) (3.4)\n",
            "Requirement already satisfied: urllib3<3,>=1.21.1 in /usr/local/lib/python3.10/dist-packages (from requests>=2.20->openai) (2.0.5)\n",
            "Requirement already satisfied: certifi>=2017.4.17 in /usr/local/lib/python3.10/dist-packages (from requests>=2.20->openai) (2023.7.22)\n",
            "Requirement already satisfied: attrs>=17.3.0 in /usr/local/lib/python3.10/dist-packages (from aiohttp->openai) (23.1.0)\n",
            "Requirement already satisfied: multidict<7.0,>=4.5 in /usr/local/lib/python3.10/dist-packages (from aiohttp->openai) (6.0.4)\n",
            "Requirement already satisfied: async-timeout<5.0,>=4.0.0a3 in /usr/local/lib/python3.10/dist-packages (from aiohttp->openai) (4.0.3)\n",
            "Requirement already satisfied: yarl<2.0,>=1.0 in /usr/local/lib/python3.10/dist-packages (from aiohttp->openai) (1.9.2)\n",
            "Requirement already satisfied: frozenlist>=1.1.1 in /usr/local/lib/python3.10/dist-packages (from aiohttp->openai) (1.4.0)\n",
            "Requirement already satisfied: aiosignal>=1.1.2 in /usr/local/lib/python3.10/dist-packages (from aiohttp->openai) (1.3.1)\n"
          ]
        }
      ]
    },
    {
      "cell_type": "code",
      "source": [
        "# Documentação Oficial da API OpenAI: https://platform.openai.com/docs/api-reference/introduction\n",
        "# Informações sobre o Período Gratuito: https://help.openai.com/en/articles/4936830\n",
        "\n",
        "# Para gerar uma API Key:\n",
        "# 1. Crie uma conta na OpenAI\n",
        "# 2. Acesse a seção \"API Keys\"\n",
        "# 3. Clique em \"Create API Key\"\n",
        "# Link direto: https://platform.openai.com/account/api-keys\n",
        "\n",
        "# Substitua o texto TODO por sua API Key da OpenAI, ela será salva como uma variável de ambiente.\n",
        "openai_api_key = 'TODO'"
      ],
      "metadata": {
        "id": "sUB1doiDTX3y"
      },
      "execution_count": 9,
      "outputs": []
    },
    {
      "cell_type": "code",
      "source": [
        "def resource_analysis(acount_balance):\n",
        "  if acount_balance < 100:\n",
        "    return \"pequeno\"\n",
        "  elif acount_balance < 1000:\n",
        "    return \"medio\"\n",
        "  else:\n",
        "    return \"grande\""
      ],
      "metadata": {
        "id": "FTpSx1hcXfN1"
      },
      "execution_count": 10,
      "outputs": []
    },
    {
      "cell_type": "code",
      "source": [
        "import openai\n",
        "\n",
        "openai.api_key = openai_api_key\n",
        "\n",
        "def generate_ai_news(user):\n",
        "  resources = resource_analysis(user[\"account\"][\"balance\"])\n",
        "  completion = openai.ChatCompletion.create(\n",
        "    model=\"gpt-3.5-turbo\",\n",
        "    messages=[\n",
        "      {\n",
        "          \"role\": \"system\",\n",
        "          \"content\": \"Você é um especialista em markting bancário.\"\n",
        "      },\n",
        "      {\n",
        "          \"role\": \"user\",\n",
        "          \"content\": f\"Crie uma mensagem para o cliente {user['name']} que tem um {resources} patrimonio sobre a importância dos investimentos (máximo de 150 caracteres)\"\n",
        "      }\n",
        "    ]\n",
        "  )\n",
        "  return completion.choices[0].message.content.strip('\\\"')\n",
        "\n",
        "for user in users:\n",
        "  news = generate_ai_news(user)\n",
        "  print(news)\n",
        "  user['news'].append({\n",
        "      \"icon\": \"https://digitalinnovationone.github.io/santander-dev-week-2023-api/icons/credit.svg\",\n",
        "      \"description\": news\n",
        "  })"
      ],
      "metadata": {
        "id": "n1w78kNxTrZY",
        "colab": {
          "base_uri": "https://localhost:8080/"
        },
        "outputId": "4253219d-0469-468c-c7f6-27c0c8d8021a"
      },
      "execution_count": 11,
      "outputs": [
        {
          "output_type": "stream",
          "name": "stdout",
          "text": [
            "Pyterlei, invista no seu futuro! Os investimentos são essenciais para o crescimento do seu patrimônio e realização de seus sonhos. Não deixe para depois!\n",
            "Pytano, invista agora para proteger e fazer crescer seu patrimônio. Garanta seu futuro financeiro com as melhores opções de investimento!\n",
            "Proteja seu patrimônio e faça seu dinheiro trabalhar para você. Invista de forma inteligente com a Pytone, sua aliada financeira.\n"
          ]
        }
      ]
    },
    {
      "cell_type": "markdown",
      "source": [
        "## **L**oad\n",
        "\n",
        "Atualize a lista de \"news\" de cada usuário na API com a nova mensagem gerada."
      ],
      "metadata": {
        "id": "kNuP0SDUZMBY"
      }
    },
    {
      "cell_type": "code",
      "source": [
        "def update_user(user):\n",
        "  response = requests.put(f\"{sdw2023_api_url}/users/{user['id']}\", json=user)\n",
        "  return True if response.status_code == 200 else False\n",
        "\n",
        "for user in users:\n",
        "  success = update_user(user)\n",
        "  print(f\"User {user['name']} updated? {success}!\")"
      ],
      "metadata": {
        "id": "YefWfYBoZMN2",
        "colab": {
          "base_uri": "https://localhost:8080/"
        },
        "outputId": "c02bbb74-34d2-4a12-f152-29b46d3c0686"
      },
      "execution_count": 12,
      "outputs": [
        {
          "output_type": "stream",
          "name": "stdout",
          "text": [
            "User Pyterlei updated? True!\n",
            "User Pytano updated? True!\n",
            "User Pytone updated? True!\n"
          ]
        }
      ]
    },
    {
      "cell_type": "markdown",
      "source": [
        "##Verificar os dado em memória"
      ],
      "metadata": {
        "id": "obdQMpCAeNVF"
      }
    },
    {
      "cell_type": "code",
      "source": [
        "in_memory_users"
      ],
      "metadata": {
        "colab": {
          "base_uri": "https://localhost:8080/"
        },
        "id": "9sPQMnozd8hS",
        "outputId": "e780e896-eaf6-4492-d28d-1bcabe5e5aa4"
      },
      "execution_count": 13,
      "outputs": [
        {
          "output_type": "execute_result",
          "data": {
            "text/plain": [
              "[{'id': 1,\n",
              "  'name': 'Pyterlei',\n",
              "  'account': {'id': 7,\n",
              "   'number': '00001-1',\n",
              "   'agency': '0001',\n",
              "   'balance': 50.0,\n",
              "   'limit': 500.0},\n",
              "  'card': {'id': 1, 'number': '**** **** **** 1111', 'limit': 1000.0},\n",
              "  'features': [],\n",
              "  'news': [{'icon': 'https://digitalinnovationone.github.io/santander-dev-week-2023-api/icons/credit.svg',\n",
              "    'description': 'Pyterlei, invista no seu futuro! Os investimentos são essenciais para o crescimento do seu patrimônio e realização de seus sonhos. Não deixe para depois!'}]},\n",
              " {'id': 2,\n",
              "  'name': 'Pytano',\n",
              "  'account': {'id': 7,\n",
              "   'number': '00002-1',\n",
              "   'agency': '0001',\n",
              "   'balance': 500.0,\n",
              "   'limit': 500.0},\n",
              "  'card': {'id': 2, 'number': '**** **** **** 1112', 'limit': 1000.0},\n",
              "  'features': [],\n",
              "  'news': [{'icon': 'https://digitalinnovationone.github.io/santander-dev-week-2023-api/icons/credit.svg',\n",
              "    'description': 'Pytano, invista agora para proteger e fazer crescer seu patrimônio. Garanta seu futuro financeiro com as melhores opções de investimento!'}]},\n",
              " {'id': 3,\n",
              "  'name': 'Pytone',\n",
              "  'account': {'id': 7,\n",
              "   'number': '00003-1',\n",
              "   'agency': '0001',\n",
              "   'balance': 5000.0,\n",
              "   'limit': 1000.0},\n",
              "  'card': {'id': 3, 'number': '**** **** **** 1113', 'limit': 1000.0},\n",
              "  'features': [],\n",
              "  'news': [{'icon': 'https://digitalinnovationone.github.io/santander-dev-week-2023-api/icons/credit.svg',\n",
              "    'description': 'Proteja seu patrimônio e faça seu dinheiro trabalhar para você. Invista de forma inteligente com a Pytone, sua aliada financeira.'}]}]"
            ]
          },
          "metadata": {},
          "execution_count": 13
        }
      ]
    }
  ]
}